{
    "metadata": {
        "kernelspec": {
            "name": "SQL",
            "display_name": "SQL",
            "language": "sql"
        },
        "language_info": {
            "name": "sql",
            "version": ""
        }
    },
    "nbformat_minor": 2,
    "nbformat": 4,
    "cells": [
        {
            "cell_type": "markdown",
            "source": [
                "#                                     **PROJECT #1 : Online Sales Data Popoular Marketplace**"
            ],
            "metadata": {
                "azdata_cell_guid": "57735d24-05cb-4435-be53-71e960ce2aba"
            },
            "attachments": {}
        },
        {
            "cell_type": "code",
            "source": [
                "/*Bar Chart showing monthly sales over the months available : month ex. 1 = January etc.*/\r\n",
                "SELECT MONTH(Date) AS Month,\r\n",
                "       SUM(Total_Revenue) AS [Monthly Sales]\r\n",
                "FROM [Online Sales Data].[dbo].[Online Sales Data]\r\n",
                "GROUP BY MONTH(Date)\r\n",
                "ORDER BY MONTH(Date);"
            ],
            "metadata": {
                "azdata_cell_guid": "7eb58e6e-b298-4715-aa08-06aca7de483f",
                "language": "sql",
                "tags": []
            },
            "outputs": [
                {
                    "output_type": "display_data",
                    "data": {
                        "text/html": "(8 rows affected)"
                    },
                    "metadata": {}
                },
                {
                    "output_type": "display_data",
                    "data": {
                        "text/html": "Total execution time: 00:00:00.005"
                    },
                    "metadata": {}
                },
                {
                    "output_type": "execute_result",
                    "execution_count": 2,
                    "data": {
                        "application/vnd.dataresource+json": {
                            "schema": {
                                "fields": [
                                    {
                                        "name": "Month"
                                    },
                                    {
                                        "name": "Monthly Sales"
                                    }
                                ]
                            },
                            "data": [
                                {
                                    "Month": "1",
                                    "Monthly Sales": "14548.319875717163"
                                },
                                {
                                    "Month": "2",
                                    "Monthly Sales": "10803.369953155518"
                                },
                                {
                                    "Month": "3",
                                    "Monthly Sales": "12849.239894866943"
                                },
                                {
                                    "Month": "4",
                                    "Monthly Sales": "12451.68991470337"
                                },
                                {
                                    "Month": "5",
                                    "Monthly Sales": "8455.489954948425"
                                },
                                {
                                    "Month": "6",
                                    "Monthly Sales": "7384.549964904785"
                                },
                                {
                                    "Month": "7",
                                    "Monthly Sales": "6797.079990386963"
                                },
                                {
                                    "Month": "8",
                                    "Monthly Sales": "7278.109984397888"
                                }
                            ]
                        },
                        "text/html": "<table><tr><th>Month</th><th>Monthly Sales</th></tr><tr><td>1</td><td>14548.319875717163</td></tr><tr><td>2</td><td>10803.369953155518</td></tr><tr><td>3</td><td>12849.239894866943</td></tr><tr><td>4</td><td>12451.68991470337</td></tr><tr><td>5</td><td>8455.489954948425</td></tr><tr><td>6</td><td>7384.549964904785</td></tr><tr><td>7</td><td>6797.079990386963</td></tr><tr><td>8</td><td>7278.109984397888</td></tr></table>"
                    },
                    "metadata": {
                        "azdata_chartOptions": {
                            "type": "bar",
                            "dataDirection": "vertical",
                            "columnsAsLabels": true,
                            "labelFirstColumn": false,
                            "legendPosition": "bottom",
                            "yAxisLabel": "Total Revenue",
                            "xAxisLabel": "Month [1-8 : Jan - Aug]"
                        }
                    }
                }
            ],
            "execution_count": 2
        },
        {
            "cell_type": "markdown",
            "source": [
                "What months is revenue the highest? Why?\n",
                "\n",
                "Above you can see a large flow within the first 4 months of the year (Jan-Apr) which can be a result of tax returns."
            ],
            "metadata": {
                "azdata_cell_guid": "d8a1006f-086a-4415-ab36-14b09b203383"
            },
            "attachments": {}
        },
        {
            "cell_type": "code",
            "source": [
                "/*Pie Chart showing the distribution of sales across different product cateorgies*/\r\n",
                "SELECT Product_Category,\r\n",
                "       SUM(Total_Revenue) AS [Category Sales]\r\n",
                "FROM [Online Sales Data].[dbo].[Online Sales Data]\r\n",
                "GROUP BY Product_Category\r\n",
                "ORDER BY [Category Sales];"
            ],
            "metadata": {
                "azdata_cell_guid": "a807e8a6-1795-4a47-9fae-6250f4160fba",
                "language": "sql",
                "tags": [
                    "hide_input"
                ]
            },
            "outputs": [
                {
                    "output_type": "display_data",
                    "data": {
                        "text/html": "(6 rows affected)"
                    },
                    "metadata": {}
                },
                {
                    "output_type": "display_data",
                    "data": {
                        "text/html": "Total execution time: 00:00:00.007"
                    },
                    "metadata": {}
                },
                {
                    "output_type": "execute_result",
                    "execution_count": 3,
                    "data": {
                        "application/vnd.dataresource+json": {
                            "schema": {
                                "fields": [
                                    {
                                        "name": "Product_Category"
                                    },
                                    {
                                        "name": "Category Sales"
                                    }
                                ]
                            },
                            "data": [
                                {
                                    "Product_Category": "Books",
                                    "Category Sales": "1861.9300003051758"
                                },
                                {
                                    "Product_Category": "Beauty Products",
                                    "Category Sales": "2621.8999977111816"
                                },
                                {
                                    "Product_Category": "Clothing",
                                    "Category Sales": "8128.9300537109375"
                                },
                                {
                                    "Product_Category": "Sports",
                                    "Category Sales": "14326.519886016846"
                                },
                                {
                                    "Product_Category": "Home Appliances",
                                    "Category Sales": "18646.15990447998"
                                },
                                {
                                    "Product_Category": "Electronics",
                                    "Category Sales": "34982.40969085693"
                                }
                            ]
                        },
                        "text/html": "<table><tr><th>Product_Category</th><th>Category Sales</th></tr><tr><td>Books</td><td>1861.9300003051758</td></tr><tr><td>Beauty Products</td><td>2621.8999977111816</td></tr><tr><td>Clothing</td><td>8128.9300537109375</td></tr><tr><td>Sports</td><td>14326.519886016846</td></tr><tr><td>Home Appliances</td><td>18646.15990447998</td></tr><tr><td>Electronics</td><td>34982.40969085693</td></tr></table>"
                    },
                    "metadata": {
                        "azdata_chartOptions": {
                            "type": "pie",
                            "dataDirection": "vertical",
                            "columnsAsLabels": true,
                            "labelFirstColumn": false,
                            "legendPosition": "bottom"
                        }
                    }
                }
            ],
            "execution_count": 3
        },
        {
            "cell_type": "markdown",
            "source": [
                "What product category is makes up a greater part of our revenue?\n",
                "\n",
                "Sales within the \"Electronics\" category makes up close to 40%-50% of the total revenue. This cost could be due to an increase in the electronics industry. I was thinking it could also be due to the cost difference between for example, an iphone over a book or beauty product but as you can see, they are 2x the total sales of Home Appliances."
            ],
            "metadata": {
                "azdata_cell_guid": "85e867c5-8f6a-4c45-ba8b-b22182083795"
            },
            "attachments": {}
        },
        {
            "cell_type": "code",
            "source": [
                "/*Line Chart showing average sales over the available months*/\r\n",
                "SELECT MONTH(Date) AS [Month],\r\n",
                "       AVG(Total_Revenue) AS [Average Revenue]\r\n",
                "FROM [Online Sales Data].[dbo].[Online Sales Data]\r\n",
                "GROUP BY MONTH([Date])\r\n",
                "ORDER BY MONTH(Date);"
            ],
            "metadata": {
                "azdata_cell_guid": "ad8b95a4-4a8c-4b55-9414-d3bd38dd8a84",
                "language": "sql",
                "tags": []
            },
            "outputs": [
                {
                    "output_type": "display_data",
                    "data": {
                        "text/html": "(8 rows affected)"
                    },
                    "metadata": {}
                },
                {
                    "output_type": "display_data",
                    "data": {
                        "text/html": "Total execution time: 00:00:00.007"
                    },
                    "metadata": {}
                },
                {
                    "output_type": "execute_result",
                    "execution_count": 4,
                    "data": {
                        "application/vnd.dataresource+json": {
                            "schema": {
                                "fields": [
                                    {
                                        "name": "Month"
                                    },
                                    {
                                        "name": "Average Revenue"
                                    }
                                ]
                            },
                            "data": [
                                {
                                    "Month": "1",
                                    "Average Revenue": "469.3006411521666"
                                },
                                {
                                    "Month": "2",
                                    "Average Revenue": "372.52999838467304"
                                },
                                {
                                    "Month": "3",
                                    "Average Revenue": "414.4916095118369"
                                },
                                {
                                    "Month": "4",
                                    "Average Revenue": "415.0563304901123"
                                },
                                {
                                    "Month": "5",
                                    "Average Revenue": "272.7577404822073"
                                },
                                {
                                    "Month": "6",
                                    "Average Revenue": "246.15166549682618"
                                },
                                {
                                    "Month": "7",
                                    "Average Revenue": "219.26064485119235"
                                },
                                {
                                    "Month": "8",
                                    "Average Revenue": "269.55962905177364"
                                }
                            ]
                        },
                        "text/html": "<table><tr><th>Month</th><th>Average Revenue</th></tr><tr><td>1</td><td>469.3006411521666</td></tr><tr><td>2</td><td>372.52999838467304</td></tr><tr><td>3</td><td>414.4916095118369</td></tr><tr><td>4</td><td>415.0563304901123</td></tr><tr><td>5</td><td>272.7577404822073</td></tr><tr><td>6</td><td>246.15166549682618</td></tr><tr><td>7</td><td>219.26064485119235</td></tr><tr><td>8</td><td>269.55962905177364</td></tr></table>"
                    },
                    "metadata": {
                        "azdata_chartOptions": {
                            "type": "line",
                            "dataDirection": "vertical",
                            "columnsAsLabels": true,
                            "labelFirstColumn": false,
                            "legendPosition": "bottom",
                            "yAxisLabel": "Avg. Revenue",
                            "xAxisLabel": "Month [1-8 : Jan-Aug]",
                            "dataType": "point"
                        }
                    }
                }
            ],
            "execution_count": 4
        },
        {
            "cell_type": "markdown",
            "source": [
                "Here is a line chart showing the average sales over the available months showing us trends caused by either seasons and sales patterns, showing the first 4 months of the year with almost double the average of the following 4 months."
            ],
            "metadata": {
                "azdata_cell_guid": "79ac6c36-acb7-4af7-962f-97ed120989d1"
            },
            "attachments": {}
        },
        {
            "cell_type": "code",
            "source": [
                "/*What product produces the most revenue?*/\r\n",
                "SELECT Product_Name,\r\n",
                "       SUM(Unit_Price*Units_Sold) AS Total_Revenue\r\n",
                "FROM [Online Sales Data].[dbo].[Online Sales Data]\r\n",
                "GROUP BY Product_Name\r\n",
                "ORDER BY Total_Revenue DESC;"
            ],
            "metadata": {
                "azdata_cell_guid": "22c0a4f0-1518-46b7-8768-cf7cd8ab7887",
                "language": "sql",
                "tags": []
            },
            "outputs": [
                {
                    "output_type": "display_data",
                    "data": {
                        "text/html": "(232 rows affected)"
                    },
                    "metadata": {}
                },
                {
                    "output_type": "display_data",
                    "data": {
                        "text/html": "Total execution time: 00:00:00.016"
                    },
                    "metadata": {}
                },
                {
                    "output_type": "execute_result",
                    "execution_count": 2,
                    "data": {
                        "application/vnd.dataresource+json": {
                            "schema": {
                                "fields": [
                                    {
                                        "name": "Product_Name"
                                    },
                                    {
                                        "name": "Total_Revenue"
                                    }
                                ]
                            },
                            "data": [
                                {
                                    "Product_Name": "Canon EOS R5 Camera",
                                    "Total_Revenue": "3899.989990234375"
                                },
                                {
                                    "Product_Name": "LG OLED TV",
                                    "Total_Revenue": "2599.97998046875"
                                },
                                {
                                    "Product_Name": "MacBook Pro 16-inch",
                                    "Total_Revenue": "2499.989990234375"
                                },
                                {
                                    "Product_Name": "Apple MacBook Pro 16-inch",
                                    "Total_Revenue": "2399"
                                },
                                {
                                    "Product_Name": "iPhone 14 Pro",
                                    "Total_Revenue": "1999.97998046875"
                                },
                                {
                                    "Product_Name": "Peloton Bike",
                                    "Total_Revenue": "1895"
                                },
                                {
                                    "Product_Name": "HP Spectre x360 Laptop",
                                    "Total_Revenue": "1599.989990234375"
                                },
                                {
                                    "Product_Name": "Roomba i7+",
                                    "Total_Revenue": "1599.97998046875"
                                },
                                {
                                    "Product_Name": "Garmin Forerunner 945",
                                    "Total_Revenue": "1599.969970703125"
                                },
                                {
                                    "Product_Name": "Samsung Odyssey G9 Gaming Monitor",
                                    "Total_Revenue": "1499.989990234375"
                                },
                                {
                                    "Product_Name": "Samsung Galaxy Tab S8",
                                    "Total_Revenue": "1499.97998046875"
                                },
                                {
                                    "Product_Name": "Microsoft Surface Laptop 4",
                                    "Total_Revenue": "1299.989990234375"
                                },
                                {
                                    "Product_Name": "Apple MacBook Air",
                                    "Total_Revenue": "1199.989990234375"
                                },
                                {
                                    "Product_Name": "Samsung QLED 4K TV",
                                    "Total_Revenue": "1199.989990234375"
                                },
                                {
                                    "Product_Name": "Apple iPad Air",
                                    "Total_Revenue": "1199.97998046875"
                                },
                                {
                                    "Product_Name": "Blueair Classic 480i",
                                    "Total_Revenue": "1199.97998046875"
                                },
                                {
                                    "Product_Name": "Apple Watch Series 8",
                                    "Total_Revenue": "1199.969970703125"
                                },
                                {
                                    "Product_Name": "Dyson Supersonic Hair Dryer",
                                    "Total_Revenue": "1199.969970703125"
                                },
                                {
                                    "Product_Name": "GoPro HERO10 Black",
                                    "Total_Revenue": "1199.969970703125"
                                },
                                {
                                    "Product_Name": "Sony WH-1000XM4 Headphones",
                                    "Total_Revenue": "1049.969970703125"
                                },
                                {
                                    "Product_Name": "Garmin Fenix 6X Pro",
                                    "Total_Revenue": "999.989990234375"
                                },
                                {
                                    "Product_Name": "Google Pixel 6 Pro",
                                    "Total_Revenue": "899.989990234375"
                                },
                                {
                                    "Product_Name": "De'Longhi Magnifica Espresso Machine",
                                    "Total_Revenue": "899.989990234375"
                                },
                                {
                                    "Product_Name": "Bose SoundLink Revolve+ Speaker",
                                    "Total_Revenue": "899.969970703125"
                                },
                                {
                                    "Product_Name": "Nintendo Switch",
                                    "Total_Revenue": "899.969970703125"
                                },
                                {
                                    "Product_Name": "Canon EOS Rebel T7i DSLR Camera",
                                    "Total_Revenue": "749.989990234375"
                                },
                                {
                                    "Product_Name": "Bowflex SelectTech 1090 Adjustable Dumbbells",
                                    "Total_Revenue": "699.989990234375"
                                },
                                {
                                    "Product_Name": "Samsung Odyssey G7 Gaming Monitor",
                                    "Total_Revenue": "699.989990234375"
                                },
                                {
                                    "Product_Name": "Shark IQ Robot Vacuum",
                                    "Total_Revenue": "699.97998046875"
                                },
                                {
                                    "Product_Name": "Fitbit Versa 3",
                                    "Total_Revenue": "689.8499908447266"
                                },
                                {
                                    "Product_Name": "Eufy RoboVac 11S",
                                    "Total_Revenue": "659.9700164794922"
                                },
                                {
                                    "Product_Name": "Google Pixelbook Go",
                                    "Total_Revenue": "649.989990234375"
                                },
                                {
                                    "Product_Name": "Garmin Edge 530",
                                    "Total_Revenue": "599.97998046875"
                                },
                                {
                                    "Product_Name": "Babolat Pure Drive Tennis Racket",
                                    "Total_Revenue": "599.9700164794922"
                                },
                                {
                                    "Product_Name": "Breville Smart Grill",
                                    "Total_Revenue": "599.9000244140625"
                                },
                                {
                                    "Product_Name": "Anova Precision Oven",
                                    "Total_Revenue": "599"
                                },
                                {
                                    "Product_Name": "Apple AirPods Max",
                                    "Total_Revenue": "549"
                                },
                                {
                                    "Product_Name": "Nike Air Force 1",
                                    "Total_Revenue": "539.9399871826172"
                                },
                                {
                                    "Product_Name": "Keurig K-Elite Coffee Maker",
                                    "Total_Revenue": "529.9700164794922"
                                },
                                {
                                    "Product_Name": "KitchenAid Artisan Stand Mixer",
                                    "Total_Revenue": "499.989990234375"
                                },
                                {
                                    "Product_Name": "Dyson V11 Vacuum",
                                    "Total_Revenue": "499.989990234375"
                                },
                                {
                                    "Product_Name": "Dyson Pure Cool Link",
                                    "Total_Revenue": "499.989990234375"
                                },
                                {
                                    "Product_Name": "Sony PlayStation 5",
                                    "Total_Revenue": "499.989990234375"
                                },
                                {
                                    "Product_Name": "North Face Down Jacket",
                                    "Total_Revenue": "499.9800109863281"
                                },
                                {
                                    "Product_Name": "Apple AirPods Pro",
                                    "Total_Revenue": "499.9800109863281"
                                },
                                {
                                    "Product_Name": "Breville Nespresso Creatista Plus",
                                    "Total_Revenue": "499.95001220703125"
                                },
                                {
                                    "Product_Name": "Polar Vantage V2",
                                    "Total_Revenue": "499.95001220703125"
                                },
                                {
                                    "Product_Name": "Manduka PRO Yoga Mat",
                                    "Total_Revenue": "479.9599914550781"
                                },
                                {
                                    "Product_Name": "Ray-Ban Aviator Sunglasses",
                                    "Total_Revenue": "464.9700164794922"
                                },
                                {
                                    "Product_Name": "Philips Sonicare DiamondClean Toothbrush",
                                    "Total_Revenue": "459.9800109863281"
                                },
                                {
                                    "Product_Name": "Google Nest Hub Max",
                                    "Total_Revenue": "459.9800109863281"
                                },
                                {
                                    "Product_Name": "GoPro HERO9 Black",
                                    "Total_Revenue": "449.989990234375"
                                },
                                {
                                    "Product_Name": "iRobot Braava Jet M6",
                                    "Total_Revenue": "449.989990234375"
                                },
                                {
                                    "Product_Name": "Bowflex SelectTech 552 Dumbbells",
                                    "Total_Revenue": "399.989990234375"
                                },
                                {
                                    "Product_Name": "Dyson V8 Absolute",
                                    "Total_Revenue": "399.989990234375"
                                },
                                {
                                    "Product_Name": "Yeti Tundra Haul Portable Wheeled Cooler",
                                    "Total_Revenue": "399.989990234375"
                                },
                                {
                                    "Product_Name": "Philips Airfryer XXL",
                                    "Total_Revenue": "399.9800109863281"
                                },
                                {
                                    "Product_Name": "Ninja Foodi Pressure Cooker",
                                    "Total_Revenue": "399.9800109863281"
                                },
                                {
                                    "Product_Name": "Cuisinart Coffee Center",
                                    "Total_Revenue": "399.8999938964844"
                                },
                                {
                                    "Product_Name": "Sonos Beam Soundbar",
                                    "Total_Revenue": "399"
                                },
                                {
                                    "Product_Name": "Anova Precision Cooker",
                                    "Total_Revenue": "398"
                                },
                                {
                                    "Product_Name": "Nike Metcon 6",
                                    "Total_Revenue": "389.9700164794922"
                                },
                                {
                                    "Product_Name": "KitchenAid Stand Mixer",
                                    "Total_Revenue": "379.989990234375"
                                },
                                {
                                    "Product_Name": "Adidas Ultraboost Running Shoes",
                                    "Total_Revenue": "359.9800109863281"
                                },
                                {
                                    "Product_Name": "Adidas Ultraboost Shoes",
                                    "Total_Revenue": "359.9800109863281"
                                },
                                {
                                    "Product_Name": "Apple TV 4K",
                                    "Total_Revenue": "358"
                                },
                                {
                                    "Product_Name": "Vitamix Explorian Blender",
                                    "Total_Revenue": "349.989990234375"
                                },
                                {
                                    "Product_Name": "YETI Tundra 65 Cooler",
                                    "Total_Revenue": "349.989990234375"
                                },
                                {
                                    "Product_Name": "Hyperice Hypervolt Massager",
                                    "Total_Revenue": "349"
                                },
                                {
                                    "Product_Name": "Adidas Originals Superstar Sneakers",
                                    "Total_Revenue": "319.9599914550781"
                                },
                                {
                                    "Product_Name": "Breville Smart Oven",
                                    "Total_Revenue": "299.989990234375"
                                },
                                {
                                    "Product_Name": "Bose QuietComfort 35 Headphones",
                                    "Total_Revenue": "299.989990234375"
                                },
                                {
                                    "Product_Name": "Garmin Forerunner 245",
                                    "Total_Revenue": "299.989990234375"
                                },
                                {
                                    "Product_Name": "YETI Tundra 45 Cooler",
                                    "Total_Revenue": "299.989990234375"
                                },
                                {
                                    "Product_Name": "Samsung Galaxy Watch 4",
                                    "Total_Revenue": "299.989990234375"
                                },
                                {
                                    "Product_Name": "Bose SoundSport Wireless Earbuds",
                                    "Total_Revenue": "299.9800109863281"
                                },
                                {
                                    "Product_Name": "Fitbit Luxe",
                                    "Total_Revenue": "299.8999938964844"
                                },
                                {
                                    "Product_Name": "Bose QuietComfort 35 II Wireless Headphones",
                                    "Total_Revenue": "299"
                                },
                                {
                                    "Product_Name": "Lululemon Align Leggings",
                                    "Total_Revenue": "294"
                                },
                                {
                                    "Product_Name": "Instant Pot Duo Evo Plus",
                                    "Total_Revenue": "279.9800109863281"
                                },
                                {
                                    "Product_Name": "Patagonia Better Sweater",
                                    "Total_Revenue": "279.9800109863281"
                                },
                                {
                                    "Product_Name": "Nike Air Force 1 Sneakers",
                                    "Total_Revenue": "270"
                                },
                                {
                                    "Product_Name": "Instant Pot Duo",
                                    "Total_Revenue": "269.9699935913086"
                                },
                                {
                                    "Product_Name": "Nike Air Zoom Pegasus 37",
                                    "Total_Revenue": "259.9800109863281"
                                },
                                {
                                    "Product_Name": "Kindle Paperwhite",
                                    "Total_Revenue": "259.9800109863281"
                                },
                                {
                                    "Product_Name": "Fitbit Charge 5",
                                    "Total_Revenue": "259.9800109863281"
                                },
                                {
                                    "Product_Name": "On Running Cloud Shoes",
                                    "Total_Revenue": "259.9800109863281"
                                },
                                {
                                    "Product_Name": "Adidas Originals Trefoil Hoodie",
                                    "Total_Revenue": "259.9599914550781"
                                },
                                {
                                    "Product_Name": "Amazon Echo Show 10",
                                    "Total_Revenue": "249.99000549316406"
                                },
                                {
                                    "Product_Name": "YETI Hopper Flip Portable Cooler",
                                    "Total_Revenue": "249.99000549316406"
                                },
                                {
                                    "Product_Name": "Titleist Pro V1 Golf Balls",
                                    "Total_Revenue": "249.95000839233398"
                                },
                                {
                                    "Product_Name": "Tommy Hilfiger Polo Shirt",
                                    "Total_Revenue": "249.95000839233398"
                                },
                                {
                                    "Product_Name": "Uniqlo Ultra Light Down Jacket",
                                    "Total_Revenue": "239.9699935913086"
                                },
                                {
                                    "Product_Name": "Puma Suede Classic Sneakers",
                                    "Total_Revenue": "239.9600067138672"
                                },
                                {
                                    "Product_Name": "Anker PowerCore Portable Charger",
                                    "Total_Revenue": "239.9600067138672"
                                },
                                {
                                    "Product_Name": "Columbia Fleece Jacket",
                                    "Total_Revenue": "239.9600067138672"
                                },
                                {
                                    "Product_Name": "Yeti Rambler Tumbler",
                                    "Total_Revenue": "239.94001007080078"
                                },
                                {
                                    "Product_Name": "Under Armour HOVR Sonic 4 Shoes",
                                    "Total_Revenue": "219.97999572753906"
                                },
                                {
                                    "Product_Name": "Rogue Fitness Kettlebell",
                                    "Total_Revenue": "209.9699935913086"
                                },
                                {
                                    "Product_Name": "Levi's 501 Jeans",
                                    "Total_Revenue": "209.9699935913086"
                                },
                                {
                                    "Product_Name": "Logitech G Pro X Wireless Gaming Headset",
                                    "Total_Revenue": "199.99000549316406"
                                },
                                {
                                    "Product_Name": "Nespresso VertuoPlus",
                                    "Total_Revenue": "199.99000549316406"
                                },
                                {
                                    "Product_Name": "Cuisinart Custom 14-Cup Food Processor",
                                    "Total_Revenue": "199.99000549316406"
                                },
                                {
                                    "Product_Name": "Yeti Roadie 24 Cooler",
                                    "Total_Revenue": "199.99000549316406"
                                },
                                {
                                    "Product_Name": "Logitech MX Master 3 Mouse",
                                    "Total_Revenue": "199.97999572753906"
                                },
                                {
                                    "Product_Name": "Amazon Echo Dot (4th Gen)",
                                    "Total_Revenue": "199.9600067138672"
                                },
                                {
                                    "Product_Name": "Breville Smart Coffee Grinder Pro",
                                    "Total_Revenue": "199.9499969482422"
                                },
                                {
                                    "Product_Name": "Fitbit Inspire 2",
                                    "Total_Revenue": "199.89999389648438"
                                },
                                {
                                    "Product_Name": "Lululemon Wunder Under High-Rise Leggings",
                                    "Total_Revenue": "196"
                                },
                                {
                                    "Product_Name": "Levi's Sherpa Trucker Jacket",
                                    "Total_Revenue": "196"
                                },
                                {
                                    "Product_Name": "La Mer Crème de la Mer Moisturizer",
                                    "Total_Revenue": "190"
                                },
                                {
                                    "Product_Name": "Instant Pot Duo Crisp",
                                    "Total_Revenue": "179.99000549316406"
                                },
                                {
                                    "Product_Name": "Panasonic NN-SN966S Microwave",
                                    "Total_Revenue": "179.99000549316406"
                                },
                                {
                                    "Product_Name": "Levi's Trucker Jacket",
                                    "Total_Revenue": "179.97999572753906"
                                },
                                {
                                    "Product_Name": "Levi's 511 Slim Fit Jeans",
                                    "Total_Revenue": "179.9700050354004"
                                },
                                {
                                    "Product_Name": "Gap 1969 Original Fit Jeans",
                                    "Total_Revenue": "179.9700050354004"
                                },
                                {
                                    "Product_Name": "Zara Summer Dress",
                                    "Total_Revenue": "179.9700050354004"
                                },
                                {
                                    "Product_Name": "TRX All-in-One Suspension Training System",
                                    "Total_Revenue": "169.9499969482422"
                                },
                                {
                                    "Product_Name": "Google Nest Wifi Router",
                                    "Total_Revenue": "169"
                                },
                                {
                                    "Product_Name": "Nike Sportswear Club Fleece Hoodie",
                                    "Total_Revenue": "164.9700050354004"
                                },
                                {
                                    "Product_Name": "Nespresso Vertuo Next Coffee and Espresso Maker",
                                    "Total_Revenue": "159.99000549316406"
                                },
                                {
                                    "Product_Name": "Cuisinart Griddler Deluxe",
                                    "Total_Revenue": "159.99000549316406"
                                },
                                {
                                    "Product_Name": "Keurig K-Mini Coffee Maker",
                                    "Total_Revenue": "159.97999572753906"
                                },
                                {
                                    "Product_Name": "Hydro Flask Wide Mouth Water Bottle",
                                    "Total_Revenue": "159.8000030517578"
                                },
                                {
                                    "Product_Name": "Gap High Rise Skinny Jeans",
                                    "Total_Revenue": "149.9700050354004"
                                },
                                {
                                    "Product_Name": "Champion Reverse Weave Hoodie",
                                    "Total_Revenue": "149.9700050354004"
                                },
                                {
                                    "Product_Name": "Amazon Fire TV Stick 4K",
                                    "Total_Revenue": "149.9700050354004"
                                },
                                {
                                    "Product_Name": "Yeti Rambler Bottle",
                                    "Total_Revenue": "149.9700050354004"
                                },
                                {
                                    "Product_Name": "Wilson Evolution Basketball",
                                    "Total_Revenue": "149.94999885559082"
                                },
                                {
                                    "Product_Name": "Under Armour HeatGear T-Shirt",
                                    "Total_Revenue": "149.94999885559082"
                                },
                                {
                                    "Product_Name": "Adidas 3-Stripes Shorts",
                                    "Total_Revenue": "149.94999885559082"
                                },
                                {
                                    "Product_Name": "Calvin Klein Boxer Briefs",
                                    "Total_Revenue": "149.94999885559082"
                                },
                                {
                                    "Product_Name": "Spalding NBA Street Basketball",
                                    "Total_Revenue": "149.93999862670898"
                                },
                                {
                                    "Product_Name": "Oakley Holbrook Sunglasses",
                                    "Total_Revenue": "146"
                                },
                                {
                                    "Product_Name": "Instant Pot Ultra",
                                    "Total_Revenue": "139.99000549316406"
                                },
                                {
                                    "Product_Name": "Nike Dri-FIT Training Shorts",
                                    "Total_Revenue": "139.9600067138672"
                                },
                                {
                                    "Product_Name": "Gap Crewneck Sweatshirt",
                                    "Total_Revenue": "139.9600067138672"
                                },
                                {
                                    "Product_Name": "Adidas Essential Track Pants",
                                    "Total_Revenue": "134.9700050354004"
                                },
                                {
                                    "Product_Name": "The Silent Patient by Alex Michaelides",
                                    "Total_Revenue": "134.94999885559082"
                                },
                                {
                                    "Product_Name": "Becoming by Michelle Obama",
                                    "Total_Revenue": "130"
                                },
                                {
                                    "Product_Name": "Chanel No. 5 Perfume",
                                    "Total_Revenue": "129.99000549316406"
                                },
                                {
                                    "Product_Name": "Bose SoundLink Color Bluetooth Speaker II",
                                    "Total_Revenue": "129"
                                },
                                {
                                    "Product_Name": "Tom Ford Black Orchid Perfume",
                                    "Total_Revenue": "125"
                                },
                                {
                                    "Product_Name": "H&M Slim Fit Jeans",
                                    "Total_Revenue": "119.97000503540039"
                                },
                                {
                                    "Product_Name": "Gap Essential Crewneck T-Shirt",
                                    "Total_Revenue": "119.93999862670898"
                                },
                                {
                                    "Product_Name": "Salt, Fat, Acid, Heat by Samin Nosrat",
                                    "Total_Revenue": "107.97000503540039"
                                },
                                {
                                    "Product_Name": "Sunday Riley Good Genes",
                                    "Total_Revenue": "105"
                                },
                                {
                                    "Product_Name": "Estee Lauder Advanced Night Repair",
                                    "Total_Revenue": "105"
                                },
                                {
                                    "Product_Name": "Nike Tempo Running Shorts",
                                    "Total_Revenue": "104.97000503540039"
                                },
                                {
                                    "Product_Name": "Lancome La Vie Est Belle",
                                    "Total_Revenue": "102"
                                },
                                {
                                    "Product_Name": "Charlotte Tilbury Magic Cream",
                                    "Total_Revenue": "100"
                                },
                                {
                                    "Product_Name": "Ninja Professional Blender",
                                    "Total_Revenue": "99.98999786376953"
                                },
                                {
                                    "Product_Name": "Ring Video Doorbell",
                                    "Total_Revenue": "99.98999786376953"
                                },
                                {
                                    "Product_Name": "Crock-Pot 6-Quart Slow Cooker",
                                    "Total_Revenue": "99.9800033569336"
                                },
                                {
                                    "Product_Name": "Under Armour Tech 2.0 T-Shirt",
                                    "Total_Revenue": "99.95999908447266"
                                },
                                {
                                    "Product_Name": "Instant Pot Duo Nova",
                                    "Total_Revenue": "99.94999694824219"
                                },
                                {
                                    "Product_Name": "Hanes ComfortSoft T-Shirt",
                                    "Total_Revenue": "99.89999771118164"
                                },
                                {
                                    "Product_Name": "Hydro Flask Standard Mouth Water Bottle",
                                    "Total_Revenue": "98.85000228881836"
                                },
                                {
                                    "Product_Name": "Hamilton Beach FlexBrew Coffee Maker",
                                    "Total_Revenue": "89.98999786376953"
                                },
                                {
                                    "Product_Name": "Neutrogena Skincare Set",
                                    "Total_Revenue": "89.98999786376953"
                                },
                                {
                                    "Product_Name": "Old Navy Mid-Rise Rockstar Super Skinny Jeans",
                                    "Total_Revenue": "89.9800033569336"
                                },
                                {
                                    "Product_Name": "Adidas FIFA World Cup Football",
                                    "Total_Revenue": "89.96999931335449"
                                },
                                {
                                    "Product_Name": "The Catcher in the Rye by J.D. Salinger",
                                    "Total_Revenue": "88.92999839782715"
                                },
                                {
                                    "Product_Name": "Educated by Tara Westover",
                                    "Total_Revenue": "84"
                                },
                                {
                                    "Product_Name": "Kiehl's Midnight Recovery Concentrate",
                                    "Total_Revenue": "82"
                                },
                                {
                                    "Product_Name": "L'Oreal Revitalift Serum",
                                    "Total_Revenue": "79.9800033569336"
                                },
                                {
                                    "Product_Name": "1984 by George Orwell",
                                    "Total_Revenue": "79.95999908447266"
                                },
                                {
                                    "Product_Name": "Caudalie Vinoperfect Radiance Serum",
                                    "Total_Revenue": "79"
                                },
                                {
                                    "Product_Name": "Drunk Elephant C-Firma Day Serum",
                                    "Total_Revenue": "78"
                                },
                                {
                                    "Product_Name": "Where the Crawdads Sing by Delia Owens",
                                    "Total_Revenue": "75.95999908447266"
                                },
                                {
                                    "Product_Name": "Harry Potter and the Sorcerer's Stone",
                                    "Total_Revenue": "74.96999931335449"
                                },
                                {
                                    "Product_Name": "Dune by Frank Herbert",
                                    "Total_Revenue": "71.95999908447266"
                                },
                                {
                                    "Product_Name": "TriggerPoint GRID Foam Roller",
                                    "Total_Revenue": "69.9800033569336"
                                },
                                {
                                    "Product_Name": "Tatcha The Water Cream",
                                    "Total_Revenue": "68"
                                },
                                {
                                    "Product_Name": "First Aid Beauty Ultra Repair Cream",
                                    "Total_Revenue": "68"
                                },
                                {
                                    "Product_Name": "Atomic Habits by James Clear",
                                    "Total_Revenue": "67.95999908447266"
                                },
                                {
                                    "Product_Name": "Forever 21 Graphic Tee",
                                    "Total_Revenue": "64.94999885559082"
                                },
                                {
                                    "Product_Name": "The Da Vinci Code",
                                    "Total_Revenue": "63.959999084472656"
                                },
                                {
                                    "Product_Name": "Yeti Rambler 20 oz Tumbler",
                                    "Total_Revenue": "59.97999954223633"
                                },
                                {
                                    "Product_Name": "To Kill a Mockingbird by Harper Lee",
                                    "Total_Revenue": "59.959999084472656"
                                },
                                {
                                    "Product_Name": "Old Navy Relaxed-Fit T-Shirt",
                                    "Total_Revenue": "59.959999084472656"
                                },
                                {
                                    "Product_Name": "Uniqlo Airism Mesh Boxer Briefs",
                                    "Total_Revenue": "59.599998474121094"
                                },
                                {
                                    "Product_Name": "GlamGlow Supermud Clearing Treatment",
                                    "Total_Revenue": "59"
                                },
                                {
                                    "Product_Name": "L'Occitane Shea Butter Hand Cream",
                                    "Total_Revenue": "58"
                                },
                                {
                                    "Product_Name": "Sunday Riley Luna Sleeping Night Oil",
                                    "Total_Revenue": "55"
                                },
                                {
                                    "Product_Name": "The Girl with the Dragon Tattoo by Stieg Larsson",
                                    "Total_Revenue": "52.94999885559082"
                                },
                                {
                                    "Product_Name": "Clinique Moisture Surge",
                                    "Total_Revenue": "52"
                                },
                                {
                                    "Product_Name": "Dr. Jart+ Cicapair Tiger Grass Color Correcting Treatment",
                                    "Total_Revenue": "52"
                                },
                                {
                                    "Product_Name": "The Great Alone by Kristin Hannah",
                                    "Total_Revenue": "50.96999931335449"
                                },
                                {
                                    "Product_Name": "Olay Regenerist Face Cream",
                                    "Total_Revenue": "49.9900016784668"
                                },
                                {
                                    "Product_Name": "Shiseido Ultimate Sun Protector",
                                    "Total_Revenue": "49"
                                },
                                {
                                    "Product_Name": "Anastasia Beverly Hills Brow Wiz",
                                    "Total_Revenue": "46"
                                },
                                {
                                    "Product_Name": "Gone Girl by Gillian Flynn",
                                    "Total_Revenue": "45.97999954223633"
                                },
                                {
                                    "Product_Name": "The Alchemist by Paulo Coelho",
                                    "Total_Revenue": "44.96999931335449"
                                },
                                {
                                    "Product_Name": "The Subtle Art of Not Giving a F*ck by Mark Manson",
                                    "Total_Revenue": "44.96999931335449"
                                },
                                {
                                    "Product_Name": "The Girl on the Train by Paula Hawkins",
                                    "Total_Revenue": "43.959999084472656"
                                },
                                {
                                    "Product_Name": "Uniqlo Airism Seamless Boxer Briefs",
                                    "Total_Revenue": "39.599998474121094"
                                },
                                {
                                    "Product_Name": "The Hobbit by J.R.R. Tolkien",
                                    "Total_Revenue": "38.96999931335449"
                                },
                                {
                                    "Product_Name": "Pride and Prejudice by Jane Austen",
                                    "Total_Revenue": "38.96999931335449"
                                },
                                {
                                    "Product_Name": "Sapiens: A Brief History of Humankind by Yuval Noah Harari",
                                    "Total_Revenue": "37.97999954223633"
                                },
                                {
                                    "Product_Name": "Youth to the People Superfood Antioxidant Cleanser",
                                    "Total_Revenue": "36"
                                },
                                {
                                    "Product_Name": "Fenty Beauty Killawatt Highlighter",
                                    "Total_Revenue": "36"
                                },
                                {
                                    "Product_Name": "The Sun Also Rises by Ernest Hemingway",
                                    "Total_Revenue": "35.96999931335449"
                                },
                                {
                                    "Product_Name": "The Hunger Games by Suzanne Collins",
                                    "Total_Revenue": "35.959999084472656"
                                },
                                {
                                    "Product_Name": "The Night Circus by Erin Morgenstern",
                                    "Total_Revenue": "33.97999954223633"
                                },
                                {
                                    "Product_Name": "The Handmaid's Tale by Margaret Atwood",
                                    "Total_Revenue": "32.96999931335449"
                                },
                                {
                                    "Product_Name": "The Outsiders by S.E. Hinton",
                                    "Total_Revenue": "32.96999931335449"
                                },
                                {
                                    "Product_Name": "Glossier Boy Brow",
                                    "Total_Revenue": "32"
                                },
                                {
                                    "Product_Name": "NARS Radiant Creamy Concealer",
                                    "Total_Revenue": "30"
                                },
                                {
                                    "Product_Name": "MAC Ruby Woo Lipstick",
                                    "Total_Revenue": "29.989999771118164"
                                },
                                {
                                    "Product_Name": "CeraVe Hydrating Facial Cleanser",
                                    "Total_Revenue": "29.979999542236328"
                                },
                                {
                                    "Product_Name": "The Goldfinch by Donna Tartt",
                                    "Total_Revenue": "29.979999542236328"
                                },
                                {
                                    "Product_Name": "Think and Grow Rich by Napoleon Hill",
                                    "Total_Revenue": "29.969999313354492"
                                },
                                {
                                    "Product_Name": "Paula's Choice Skin Perfecting 2% BHA Liquid Exfoliant",
                                    "Total_Revenue": "29.5"
                                },
                                {
                                    "Product_Name": "Clinique Dramatically Different Moisturizing Lotion",
                                    "Total_Revenue": "29.5"
                                },
                                {
                                    "Product_Name": "Tarte Shape Tape Concealer",
                                    "Total_Revenue": "27"
                                },
                                {
                                    "Product_Name": "The Power of Now by Eckhart Tolle",
                                    "Total_Revenue": "25.979999542236328"
                                },
                                {
                                    "Product_Name": "The Nightingale by Kristin Hannah",
                                    "Total_Revenue": "25.979999542236328"
                                },
                                {
                                    "Product_Name": "The Martian by Andy Weir",
                                    "Total_Revenue": "25.979999542236328"
                                },
                                {
                                    "Product_Name": "Laneige Water Sleeping Mask",
                                    "Total_Revenue": "25"
                                },
                                {
                                    "Product_Name": "Fresh Sugar Lip Treatment",
                                    "Total_Revenue": "24"
                                },
                                {
                                    "Product_Name": "The Road by Cormac McCarthy",
                                    "Total_Revenue": "23.979999542236328"
                                },
                                {
                                    "Product_Name": "The Power of Habit by Charles Duhigg",
                                    "Total_Revenue": "23.979999542236328"
                                },
                                {
                                    "Product_Name": "The Art of War by Sun Tzu",
                                    "Total_Revenue": "23.969999313354492"
                                },
                                {
                                    "Product_Name": "The Great Gatsby by F. Scott Fitzgerald",
                                    "Total_Revenue": "21.979999542236328"
                                },
                                {
                                    "Product_Name": "Glossier Cloud Paint",
                                    "Total_Revenue": "18"
                                },
                                {
                                    "Product_Name": "The Four Agreements by Don Miguel Ruiz",
                                    "Total_Revenue": "17.979999542236328"
                                },
                                {
                                    "Product_Name": "Neutrogena Hydro Boost Water Gel",
                                    "Total_Revenue": "16.989999771118164"
                                },
                                {
                                    "Product_Name": "Biore UV Aqua Rich Watery Essence Sunscreen",
                                    "Total_Revenue": "15"
                                },
                                {
                                    "Product_Name": "The Ordinary Hyaluronic Acid Serum",
                                    "Total_Revenue": "6.800000190734863"
                                },
                                {
                                    "Product_Name": "The Ordinary Caffeine Solution 5% + EGCG",
                                    "Total_Revenue": "6.699999809265137"
                                },
                                {
                                    "Product_Name": "The Ordinary Niacinamide Serum",
                                    "Total_Revenue": "6.5"
                                }
                            ]
                        },
                        "text/html": "<table><tr><th>Product_Name</th><th>Total_Revenue</th></tr><tr><td>Canon EOS R5 Camera</td><td>3899.989990234375</td></tr><tr><td>LG OLED TV</td><td>2599.97998046875</td></tr><tr><td>MacBook Pro 16-inch</td><td>2499.989990234375</td></tr><tr><td>Apple MacBook Pro 16-inch</td><td>2399</td></tr><tr><td>iPhone 14 Pro</td><td>1999.97998046875</td></tr><tr><td>Peloton Bike</td><td>1895</td></tr><tr><td>HP Spectre x360 Laptop</td><td>1599.989990234375</td></tr><tr><td>Roomba i7+</td><td>1599.97998046875</td></tr><tr><td>Garmin Forerunner 945</td><td>1599.969970703125</td></tr><tr><td>Samsung Odyssey G9 Gaming Monitor</td><td>1499.989990234375</td></tr><tr><td>Samsung Galaxy Tab S8</td><td>1499.97998046875</td></tr><tr><td>Microsoft Surface Laptop 4</td><td>1299.989990234375</td></tr><tr><td>Apple MacBook Air</td><td>1199.989990234375</td></tr><tr><td>Samsung QLED 4K TV</td><td>1199.989990234375</td></tr><tr><td>Apple iPad Air</td><td>1199.97998046875</td></tr><tr><td>Blueair Classic 480i</td><td>1199.97998046875</td></tr><tr><td>Apple Watch Series 8</td><td>1199.969970703125</td></tr><tr><td>Dyson Supersonic Hair Dryer</td><td>1199.969970703125</td></tr><tr><td>GoPro HERO10 Black</td><td>1199.969970703125</td></tr><tr><td>Sony WH-1000XM4 Headphones</td><td>1049.969970703125</td></tr><tr><td>Garmin Fenix 6X Pro</td><td>999.989990234375</td></tr><tr><td>Google Pixel 6 Pro</td><td>899.989990234375</td></tr><tr><td>De&#39;Longhi Magnifica Espresso Machine</td><td>899.989990234375</td></tr><tr><td>Bose SoundLink Revolve+ Speaker</td><td>899.969970703125</td></tr><tr><td>Nintendo Switch</td><td>899.969970703125</td></tr><tr><td>Canon EOS Rebel T7i DSLR Camera</td><td>749.989990234375</td></tr><tr><td>Bowflex SelectTech 1090 Adjustable Dumbbells</td><td>699.989990234375</td></tr><tr><td>Samsung Odyssey G7 Gaming Monitor</td><td>699.989990234375</td></tr><tr><td>Shark IQ Robot Vacuum</td><td>699.97998046875</td></tr><tr><td>Fitbit Versa 3</td><td>689.8499908447266</td></tr><tr><td>Eufy RoboVac 11S</td><td>659.9700164794922</td></tr><tr><td>Google Pixelbook Go</td><td>649.989990234375</td></tr><tr><td>Garmin Edge 530</td><td>599.97998046875</td></tr><tr><td>Babolat Pure Drive Tennis Racket</td><td>599.9700164794922</td></tr><tr><td>Breville Smart Grill</td><td>599.9000244140625</td></tr><tr><td>Anova Precision Oven</td><td>599</td></tr><tr><td>Apple AirPods Max</td><td>549</td></tr><tr><td>Nike Air Force 1</td><td>539.9399871826172</td></tr><tr><td>Keurig K-Elite Coffee Maker</td><td>529.9700164794922</td></tr><tr><td>KitchenAid Artisan Stand Mixer</td><td>499.989990234375</td></tr><tr><td>Dyson V11 Vacuum</td><td>499.989990234375</td></tr><tr><td>Dyson Pure Cool Link</td><td>499.989990234375</td></tr><tr><td>Sony PlayStation 5</td><td>499.989990234375</td></tr><tr><td>North Face Down Jacket</td><td>499.9800109863281</td></tr><tr><td>Apple AirPods Pro</td><td>499.9800109863281</td></tr><tr><td>Breville Nespresso Creatista Plus</td><td>499.95001220703125</td></tr><tr><td>Polar Vantage V2</td><td>499.95001220703125</td></tr><tr><td>Manduka PRO Yoga Mat</td><td>479.9599914550781</td></tr><tr><td>Ray-Ban Aviator Sunglasses</td><td>464.9700164794922</td></tr><tr><td>Philips Sonicare DiamondClean Toothbrush</td><td>459.9800109863281</td></tr><tr><td>Google Nest Hub Max</td><td>459.9800109863281</td></tr><tr><td>GoPro HERO9 Black</td><td>449.989990234375</td></tr><tr><td>iRobot Braava Jet M6</td><td>449.989990234375</td></tr><tr><td>Bowflex SelectTech 552 Dumbbells</td><td>399.989990234375</td></tr><tr><td>Dyson V8 Absolute</td><td>399.989990234375</td></tr><tr><td>Yeti Tundra Haul Portable Wheeled Cooler</td><td>399.989990234375</td></tr><tr><td>Philips Airfryer XXL</td><td>399.9800109863281</td></tr><tr><td>Ninja Foodi Pressure Cooker</td><td>399.9800109863281</td></tr><tr><td>Cuisinart Coffee Center</td><td>399.8999938964844</td></tr><tr><td>Sonos Beam Soundbar</td><td>399</td></tr><tr><td>Anova Precision Cooker</td><td>398</td></tr><tr><td>Nike Metcon 6</td><td>389.9700164794922</td></tr><tr><td>KitchenAid Stand Mixer</td><td>379.989990234375</td></tr><tr><td>Adidas Ultraboost Running Shoes</td><td>359.9800109863281</td></tr><tr><td>Adidas Ultraboost Shoes</td><td>359.9800109863281</td></tr><tr><td>Apple TV 4K</td><td>358</td></tr><tr><td>Vitamix Explorian Blender</td><td>349.989990234375</td></tr><tr><td>YETI Tundra 65 Cooler</td><td>349.989990234375</td></tr><tr><td>Hyperice Hypervolt Massager</td><td>349</td></tr><tr><td>Adidas Originals Superstar Sneakers</td><td>319.9599914550781</td></tr><tr><td>Breville Smart Oven</td><td>299.989990234375</td></tr><tr><td>Bose QuietComfort 35 Headphones</td><td>299.989990234375</td></tr><tr><td>Garmin Forerunner 245</td><td>299.989990234375</td></tr><tr><td>YETI Tundra 45 Cooler</td><td>299.989990234375</td></tr><tr><td>Samsung Galaxy Watch 4</td><td>299.989990234375</td></tr><tr><td>Bose SoundSport Wireless Earbuds</td><td>299.9800109863281</td></tr><tr><td>Fitbit Luxe</td><td>299.8999938964844</td></tr><tr><td>Bose QuietComfort 35 II Wireless Headphones</td><td>299</td></tr><tr><td>Lululemon Align Leggings</td><td>294</td></tr><tr><td>Instant Pot Duo Evo Plus</td><td>279.9800109863281</td></tr><tr><td>Patagonia Better Sweater</td><td>279.9800109863281</td></tr><tr><td>Nike Air Force 1 Sneakers</td><td>270</td></tr><tr><td>Instant Pot Duo</td><td>269.9699935913086</td></tr><tr><td>Nike Air Zoom Pegasus 37</td><td>259.9800109863281</td></tr><tr><td>Kindle Paperwhite</td><td>259.9800109863281</td></tr><tr><td>Fitbit Charge 5</td><td>259.9800109863281</td></tr><tr><td>On Running Cloud Shoes</td><td>259.9800109863281</td></tr><tr><td>Adidas Originals Trefoil Hoodie</td><td>259.9599914550781</td></tr><tr><td>Amazon Echo Show 10</td><td>249.99000549316406</td></tr><tr><td>YETI Hopper Flip Portable Cooler</td><td>249.99000549316406</td></tr><tr><td>Titleist Pro V1 Golf Balls</td><td>249.95000839233398</td></tr><tr><td>Tommy Hilfiger Polo Shirt</td><td>249.95000839233398</td></tr><tr><td>Uniqlo Ultra Light Down Jacket</td><td>239.9699935913086</td></tr><tr><td>Puma Suede Classic Sneakers</td><td>239.9600067138672</td></tr><tr><td>Anker PowerCore Portable Charger</td><td>239.9600067138672</td></tr><tr><td>Columbia Fleece Jacket</td><td>239.9600067138672</td></tr><tr><td>Yeti Rambler Tumbler</td><td>239.94001007080078</td></tr><tr><td>Under Armour HOVR Sonic 4 Shoes</td><td>219.97999572753906</td></tr><tr><td>Rogue Fitness Kettlebell</td><td>209.9699935913086</td></tr><tr><td>Levi&#39;s 501 Jeans</td><td>209.9699935913086</td></tr><tr><td>Logitech G Pro X Wireless Gaming Headset</td><td>199.99000549316406</td></tr><tr><td>Nespresso VertuoPlus</td><td>199.99000549316406</td></tr><tr><td>Cuisinart Custom 14-Cup Food Processor</td><td>199.99000549316406</td></tr><tr><td>Yeti Roadie 24 Cooler</td><td>199.99000549316406</td></tr><tr><td>Logitech MX Master 3 Mouse</td><td>199.97999572753906</td></tr><tr><td>Amazon Echo Dot (4th Gen)</td><td>199.9600067138672</td></tr><tr><td>Breville Smart Coffee Grinder Pro</td><td>199.9499969482422</td></tr><tr><td>Fitbit Inspire 2</td><td>199.89999389648438</td></tr><tr><td>Lululemon Wunder Under High-Rise Leggings</td><td>196</td></tr><tr><td>Levi&#39;s Sherpa Trucker Jacket</td><td>196</td></tr><tr><td>La Mer Crème de la Mer Moisturizer</td><td>190</td></tr><tr><td>Instant Pot Duo Crisp</td><td>179.99000549316406</td></tr><tr><td>Panasonic NN-SN966S Microwave</td><td>179.99000549316406</td></tr><tr><td>Levi&#39;s Trucker Jacket</td><td>179.97999572753906</td></tr><tr><td>Levi&#39;s 511 Slim Fit Jeans</td><td>179.9700050354004</td></tr><tr><td>Gap 1969 Original Fit Jeans</td><td>179.9700050354004</td></tr><tr><td>Zara Summer Dress</td><td>179.9700050354004</td></tr><tr><td>TRX All-in-One Suspension Training System</td><td>169.9499969482422</td></tr><tr><td>Google Nest Wifi Router</td><td>169</td></tr><tr><td>Nike Sportswear Club Fleece Hoodie</td><td>164.9700050354004</td></tr><tr><td>Nespresso Vertuo Next Coffee and Espresso Maker</td><td>159.99000549316406</td></tr><tr><td>Cuisinart Griddler Deluxe</td><td>159.99000549316406</td></tr><tr><td>Keurig K-Mini Coffee Maker</td><td>159.97999572753906</td></tr><tr><td>Hydro Flask Wide Mouth Water Bottle</td><td>159.8000030517578</td></tr><tr><td>Gap High Rise Skinny Jeans</td><td>149.9700050354004</td></tr><tr><td>Champion Reverse Weave Hoodie</td><td>149.9700050354004</td></tr><tr><td>Amazon Fire TV Stick 4K</td><td>149.9700050354004</td></tr><tr><td>Yeti Rambler Bottle</td><td>149.9700050354004</td></tr><tr><td>Wilson Evolution Basketball</td><td>149.94999885559082</td></tr><tr><td>Under Armour HeatGear T-Shirt</td><td>149.94999885559082</td></tr><tr><td>Adidas 3-Stripes Shorts</td><td>149.94999885559082</td></tr><tr><td>Calvin Klein Boxer Briefs</td><td>149.94999885559082</td></tr><tr><td>Spalding NBA Street Basketball</td><td>149.93999862670898</td></tr><tr><td>Oakley Holbrook Sunglasses</td><td>146</td></tr><tr><td>Instant Pot Ultra</td><td>139.99000549316406</td></tr><tr><td>Nike Dri-FIT Training Shorts</td><td>139.9600067138672</td></tr><tr><td>Gap Crewneck Sweatshirt</td><td>139.9600067138672</td></tr><tr><td>Adidas Essential Track Pants</td><td>134.9700050354004</td></tr><tr><td>The Silent Patient by Alex Michaelides</td><td>134.94999885559082</td></tr><tr><td>Becoming by Michelle Obama</td><td>130</td></tr><tr><td>Chanel No. 5 Perfume</td><td>129.99000549316406</td></tr><tr><td>Bose SoundLink Color Bluetooth Speaker II</td><td>129</td></tr><tr><td>Tom Ford Black Orchid Perfume</td><td>125</td></tr><tr><td>H&amp;M Slim Fit Jeans</td><td>119.97000503540039</td></tr><tr><td>Gap Essential Crewneck T-Shirt</td><td>119.93999862670898</td></tr><tr><td>Salt, Fat, Acid, Heat by Samin Nosrat</td><td>107.97000503540039</td></tr><tr><td>Sunday Riley Good Genes</td><td>105</td></tr><tr><td>Estee Lauder Advanced Night Repair</td><td>105</td></tr><tr><td>Nike Tempo Running Shorts</td><td>104.97000503540039</td></tr><tr><td>Lancome La Vie Est Belle</td><td>102</td></tr><tr><td>Charlotte Tilbury Magic Cream</td><td>100</td></tr><tr><td>Ninja Professional Blender</td><td>99.98999786376953</td></tr><tr><td>Ring Video Doorbell</td><td>99.98999786376953</td></tr><tr><td>Crock-Pot 6-Quart Slow Cooker</td><td>99.9800033569336</td></tr><tr><td>Under Armour Tech 2.0 T-Shirt</td><td>99.95999908447266</td></tr><tr><td>Instant Pot Duo Nova</td><td>99.94999694824219</td></tr><tr><td>Hanes ComfortSoft T-Shirt</td><td>99.89999771118164</td></tr><tr><td>Hydro Flask Standard Mouth Water Bottle</td><td>98.85000228881836</td></tr><tr><td>Hamilton Beach FlexBrew Coffee Maker</td><td>89.98999786376953</td></tr><tr><td>Neutrogena Skincare Set</td><td>89.98999786376953</td></tr><tr><td>Old Navy Mid-Rise Rockstar Super Skinny Jeans</td><td>89.9800033569336</td></tr><tr><td>Adidas FIFA World Cup Football</td><td>89.96999931335449</td></tr><tr><td>The Catcher in the Rye by J.D. Salinger</td><td>88.92999839782715</td></tr><tr><td>Educated by Tara Westover</td><td>84</td></tr><tr><td>Kiehl&#39;s Midnight Recovery Concentrate</td><td>82</td></tr><tr><td>L&#39;Oreal Revitalift Serum</td><td>79.9800033569336</td></tr><tr><td>1984 by George Orwell</td><td>79.95999908447266</td></tr><tr><td>Caudalie Vinoperfect Radiance Serum</td><td>79</td></tr><tr><td>Drunk Elephant C-Firma Day Serum</td><td>78</td></tr><tr><td>Where the Crawdads Sing by Delia Owens</td><td>75.95999908447266</td></tr><tr><td>Harry Potter and the Sorcerer&#39;s Stone</td><td>74.96999931335449</td></tr><tr><td>Dune by Frank Herbert</td><td>71.95999908447266</td></tr><tr><td>TriggerPoint GRID Foam Roller</td><td>69.9800033569336</td></tr><tr><td>Tatcha The Water Cream</td><td>68</td></tr><tr><td>First Aid Beauty Ultra Repair Cream</td><td>68</td></tr><tr><td>Atomic Habits by James Clear</td><td>67.95999908447266</td></tr><tr><td>Forever 21 Graphic Tee</td><td>64.94999885559082</td></tr><tr><td>The Da Vinci Code</td><td>63.959999084472656</td></tr><tr><td>Yeti Rambler 20 oz Tumbler</td><td>59.97999954223633</td></tr><tr><td>To Kill a Mockingbird by Harper Lee</td><td>59.959999084472656</td></tr><tr><td>Old Navy Relaxed-Fit T-Shirt</td><td>59.959999084472656</td></tr><tr><td>Uniqlo Airism Mesh Boxer Briefs</td><td>59.599998474121094</td></tr><tr><td>GlamGlow Supermud Clearing Treatment</td><td>59</td></tr><tr><td>L&#39;Occitane Shea Butter Hand Cream</td><td>58</td></tr><tr><td>Sunday Riley Luna Sleeping Night Oil</td><td>55</td></tr><tr><td>The Girl with the Dragon Tattoo by Stieg Larsson</td><td>52.94999885559082</td></tr><tr><td>Clinique Moisture Surge</td><td>52</td></tr><tr><td>Dr. Jart+ Cicapair Tiger Grass Color Correcting Treatment</td><td>52</td></tr><tr><td>The Great Alone by Kristin Hannah</td><td>50.96999931335449</td></tr><tr><td>Olay Regenerist Face Cream</td><td>49.9900016784668</td></tr><tr><td>Shiseido Ultimate Sun Protector</td><td>49</td></tr><tr><td>Anastasia Beverly Hills Brow Wiz</td><td>46</td></tr><tr><td>Gone Girl by Gillian Flynn</td><td>45.97999954223633</td></tr><tr><td>The Alchemist by Paulo Coelho</td><td>44.96999931335449</td></tr><tr><td>The Subtle Art of Not Giving a F*ck by Mark Manson</td><td>44.96999931335449</td></tr><tr><td>The Girl on the Train by Paula Hawkins</td><td>43.959999084472656</td></tr><tr><td>Uniqlo Airism Seamless Boxer Briefs</td><td>39.599998474121094</td></tr><tr><td>The Hobbit by J.R.R. Tolkien</td><td>38.96999931335449</td></tr><tr><td>Pride and Prejudice by Jane Austen</td><td>38.96999931335449</td></tr><tr><td>Sapiens: A Brief History of Humankind by Yuval Noah Harari</td><td>37.97999954223633</td></tr><tr><td>Youth to the People Superfood Antioxidant Cleanser</td><td>36</td></tr><tr><td>Fenty Beauty Killawatt Highlighter</td><td>36</td></tr><tr><td>The Sun Also Rises by Ernest Hemingway</td><td>35.96999931335449</td></tr><tr><td>The Hunger Games by Suzanne Collins</td><td>35.959999084472656</td></tr><tr><td>The Night Circus by Erin Morgenstern</td><td>33.97999954223633</td></tr><tr><td>The Handmaid&#39;s Tale by Margaret Atwood</td><td>32.96999931335449</td></tr><tr><td>The Outsiders by S.E. Hinton</td><td>32.96999931335449</td></tr><tr><td>Glossier Boy Brow</td><td>32</td></tr><tr><td>NARS Radiant Creamy Concealer</td><td>30</td></tr><tr><td>MAC Ruby Woo Lipstick</td><td>29.989999771118164</td></tr><tr><td>CeraVe Hydrating Facial Cleanser</td><td>29.979999542236328</td></tr><tr><td>The Goldfinch by Donna Tartt</td><td>29.979999542236328</td></tr><tr><td>Think and Grow Rich by Napoleon Hill</td><td>29.969999313354492</td></tr><tr><td>Paula&#39;s Choice Skin Perfecting 2% BHA Liquid Exfoliant</td><td>29.5</td></tr><tr><td>Clinique Dramatically Different Moisturizing Lotion</td><td>29.5</td></tr><tr><td>Tarte Shape Tape Concealer</td><td>27</td></tr><tr><td>The Power of Now by Eckhart Tolle</td><td>25.979999542236328</td></tr><tr><td>The Nightingale by Kristin Hannah</td><td>25.979999542236328</td></tr><tr><td>The Martian by Andy Weir</td><td>25.979999542236328</td></tr><tr><td>Laneige Water Sleeping Mask</td><td>25</td></tr><tr><td>Fresh Sugar Lip Treatment</td><td>24</td></tr><tr><td>The Road by Cormac McCarthy</td><td>23.979999542236328</td></tr><tr><td>The Power of Habit by Charles Duhigg</td><td>23.979999542236328</td></tr><tr><td>The Art of War by Sun Tzu</td><td>23.969999313354492</td></tr><tr><td>The Great Gatsby by F. Scott Fitzgerald</td><td>21.979999542236328</td></tr><tr><td>Glossier Cloud Paint</td><td>18</td></tr><tr><td>The Four Agreements by Don Miguel Ruiz</td><td>17.979999542236328</td></tr><tr><td>Neutrogena Hydro Boost Water Gel</td><td>16.989999771118164</td></tr><tr><td>Biore UV Aqua Rich Watery Essence Sunscreen</td><td>15</td></tr><tr><td>The Ordinary Hyaluronic Acid Serum</td><td>6.800000190734863</td></tr><tr><td>The Ordinary Caffeine Solution 5% + EGCG</td><td>6.699999809265137</td></tr><tr><td>The Ordinary Niacinamide Serum</td><td>6.5</td></tr></table>"
                    },
                    "metadata": {
                        "azdata_chartOptions": {
                            "type": "bar",
                            "dataDirection": "vertical",
                            "columnsAsLabels": true,
                            "labelFirstColumn": false,
                            "legendPosition": "top",
                            "yAxisLabel": "Total Revenue",
                            "xAxisLabel": "Products",
                            "dataType": "number"
                        }
                    }
                }
            ],
            "execution_count": 2
        },
        {
            "cell_type": "markdown",
            "source": [
                "What product is producing the most revenue?\n",
                "\n",
                "The Canon EOS R5 Camera has produced the most amount of revenue within the 8 months of recorded data."
            ],
            "metadata": {
                "azdata_cell_guid": "b111c928-4004-4f7f-89d1-465cebf1d97d"
            },
            "attachments": {}
        }
    ]
}